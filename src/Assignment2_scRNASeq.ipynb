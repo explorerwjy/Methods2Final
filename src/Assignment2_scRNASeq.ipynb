{
 "cells": [
  {
   "cell_type": "markdown",
   "metadata": {},
   "source": [
    "# Assignment 2 - Single Cell RNA Sequencing (scRNA-Seq)\n",
    "In class we learned about the methods through which scRNA-Seq data is quantified, as well as all of the potential pitfalls that arise when attempting to preprocess and analyze the data. Here, we'll delve into some current tools and methods for processing scRNA-Req data. "
   ]
  },
  {
   "cell_type": "markdown",
   "metadata": {},
   "source": [
    "We start by installing the necessary software:"
   ]
  },
  {
   "cell_type": "code",
   "execution_count": 1,
   "metadata": {},
   "outputs": [
    {
     "name": "stdout",
     "output_type": "stream",
     "text": [
      "Collecting magic-impute\n",
      "  Downloading https://files.pythonhosted.org/packages/d6/0c/2e984c76d21010d6ccec2185a83edd37d3d6bb0e109d76714d5f9e890d48/magic_impute-1.5.5-py3-none-any.whl\n",
      "Requirement already satisfied: scikit-learn>=0.19.1 in /Users/jiayao/anaconda3/lib/python3.7/site-packages (from magic-impute) (0.20.1)\n",
      "Requirement already satisfied: numpy>=1.14.0 in /Users/jiayao/anaconda3/lib/python3.7/site-packages (from magic-impute) (1.15.4)\n",
      "Requirement already satisfied: future in /Users/jiayao/anaconda3/lib/python3.7/site-packages (from magic-impute) (0.17.1)\n",
      "Requirement already satisfied: scipy>=1.1.0 in /Users/jiayao/anaconda3/lib/python3.7/site-packages (from magic-impute) (1.1.0)\n",
      "Collecting tasklogger>=0.4.0 (from magic-impute)\n",
      "  Downloading https://files.pythonhosted.org/packages/2e/4d/9790904bb5ec98dbdeb81b9e52c15f125a3f88103d03d26dbff9cfce3f9c/tasklogger-0.4.2-py3-none-any.whl\n",
      "Requirement already satisfied: scprep>=0.11.1 in /Users/jiayao/anaconda3/lib/python3.7/site-packages (from magic-impute) (0.12.0)\n",
      "Requirement already satisfied: pandas<0.24,>=0.21.0 in /Users/jiayao/anaconda3/lib/python3.7/site-packages (from magic-impute) (0.23.4)\n",
      "Requirement already satisfied: matplotlib in /Users/jiayao/anaconda3/lib/python3.7/site-packages (from magic-impute) (3.0.2)\n",
      "Collecting graphtools>=1.0.0 (from magic-impute)\n",
      "  Downloading https://files.pythonhosted.org/packages/06/43/79bcafcbae5566a9ce12bee3e7852c90f4d23f26f5b926f68be106e9c3e8/graphtools-1.1.0-py3-none-any.whl\n",
      "Requirement already satisfied: decorator>=4.3.0 in /Users/jiayao/anaconda3/lib/python3.7/site-packages (from scprep>=0.11.1->magic-impute) (4.3.0)\n",
      "Requirement already satisfied: python-dateutil>=2.5.0 in /Users/jiayao/anaconda3/lib/python3.7/site-packages (from pandas<0.24,>=0.21.0->magic-impute) (2.7.5)\n",
      "Requirement already satisfied: pytz>=2011k in /Users/jiayao/anaconda3/lib/python3.7/site-packages (from pandas<0.24,>=0.21.0->magic-impute) (2018.7)\n",
      "Requirement already satisfied: cycler>=0.10 in /Users/jiayao/anaconda3/lib/python3.7/site-packages (from matplotlib->magic-impute) (0.10.0)\n",
      "Requirement already satisfied: kiwisolver>=1.0.1 in /Users/jiayao/anaconda3/lib/python3.7/site-packages (from matplotlib->magic-impute) (1.0.1)\n",
      "Requirement already satisfied: pyparsing!=2.0.4,!=2.1.2,!=2.1.6,>=2.0.1 in /Users/jiayao/anaconda3/lib/python3.7/site-packages (from matplotlib->magic-impute) (2.3.0)\n",
      "Collecting pygsp>=0.5.1 (from graphtools>=1.0.0->magic-impute)\n",
      "\u001b[?25l  Downloading https://files.pythonhosted.org/packages/d4/89/2f4aa73cccf12bec5179ac5d52a68b508120c838b7e5d456f5ea0c8beade/PyGSP-0.5.1-py2.py3-none-any.whl (1.8MB)\n",
      "\u001b[K    100% |████████████████████████████████| 1.8MB 6.5MB/s eta 0:00:011\n",
      "\u001b[?25hRequirement already satisfied: six>=1.5 in /Users/jiayao/anaconda3/lib/python3.7/site-packages (from python-dateutil>=2.5.0->pandas<0.24,>=0.21.0->magic-impute) (1.12.0)\n",
      "Requirement already satisfied: setuptools in /Users/jiayao/anaconda3/lib/python3.7/site-packages (from kiwisolver>=1.0.1->matplotlib->magic-impute) (40.6.3)\n",
      "Installing collected packages: tasklogger, pygsp, graphtools, magic-impute\n",
      "Successfully installed graphtools-1.1.0 magic-impute-1.5.5 pygsp-0.5.1 tasklogger-0.4.2\n"
     ]
    }
   ],
   "source": [
    "!pip install --user magic-impute"
   ]
  },
  {
   "cell_type": "markdown",
   "metadata": {},
   "source": [
    "Then, we'll import the necessary libraries:"
   ]
  },
  {
   "cell_type": "code",
   "execution_count": 2,
   "metadata": {},
   "outputs": [
    {
     "ename": "ModuleNotFoundError",
     "evalue": "No module named 'magic'",
     "output_type": "error",
     "traceback": [
      "\u001b[0;31m---------------------------------------------------------------------------\u001b[0m",
      "\u001b[0;31mModuleNotFoundError\u001b[0m                       Traceback (most recent call last)",
      "\u001b[0;32m<ipython-input-2-16ec0ea38b70>\u001b[0m in \u001b[0;36m<module>\u001b[0;34m\u001b[0m\n\u001b[0;32m----> 1\u001b[0;31m \u001b[0;32mimport\u001b[0m \u001b[0mmagic\u001b[0m\u001b[0;34m\u001b[0m\u001b[0;34m\u001b[0m\u001b[0m\n\u001b[0m\u001b[1;32m      2\u001b[0m \u001b[0;32mimport\u001b[0m \u001b[0mscprep\u001b[0m\u001b[0;34m\u001b[0m\u001b[0;34m\u001b[0m\u001b[0m\n\u001b[1;32m      3\u001b[0m \u001b[0;34m\u001b[0m\u001b[0m\n\u001b[1;32m      4\u001b[0m \u001b[0;32mimport\u001b[0m \u001b[0mnumpy\u001b[0m \u001b[0;32mas\u001b[0m \u001b[0mnp\u001b[0m\u001b[0;34m\u001b[0m\u001b[0;34m\u001b[0m\u001b[0m\n\u001b[1;32m      5\u001b[0m \u001b[0;32mimport\u001b[0m \u001b[0mpandas\u001b[0m \u001b[0;32mas\u001b[0m \u001b[0mpd\u001b[0m\u001b[0;34m\u001b[0m\u001b[0;34m\u001b[0m\u001b[0m\n",
      "\u001b[0;31mModuleNotFoundError\u001b[0m: No module named 'magic'"
     ]
    }
   ],
   "source": [
    "import magic\n",
    "import scprep\n",
    "\n",
    "import numpy as np\n",
    "import pandas as pd\n",
    "import matplotlib\n",
    "import matplotlib.pyplot as plt\n",
    "\n",
    "%matplotlib inline"
   ]
  },
  {
   "cell_type": "markdown",
   "metadata": {},
   "source": [
    "# Part I:  Visualizing Cell Trajectories with MAGIC (Markov Affinity-Based Graph Imputation of Cells)"
   ]
  },
  {
   "cell_type": "markdown",
   "metadata": {},
   "source": [
    "#### First, we'll read in our data:\n",
    "\n",
    "\n",
    "Data citation:  Paul, F., Arkin, Y., Giladi, A., Jaitin, D.A., Kenigsberg, E., Keren-Shaul, H., Winter, D., Lara-Astiaso, D., Gury, M., Weiner, A., et al. (2015). Transcriptional heterogeneity and lineage commitment in myeloid progenitors. Cell 163, 1663–1677."
   ]
  },
  {
   "cell_type": "code",
   "execution_count": 96,
   "metadata": {
    "scrolled": true
   },
   "outputs": [
    {
     "data": {
      "text/html": [
       "<div>\n",
       "<style scoped>\n",
       "    .dataframe tbody tr th:only-of-type {\n",
       "        vertical-align: middle;\n",
       "    }\n",
       "\n",
       "    .dataframe tbody tr th {\n",
       "        vertical-align: top;\n",
       "    }\n",
       "\n",
       "    .dataframe thead th {\n",
       "        text-align: right;\n",
       "    }\n",
       "</style>\n",
       "<table border=\"1\" class=\"dataframe\">\n",
       "  <thead>\n",
       "    <tr style=\"text-align: right;\">\n",
       "      <th></th>\n",
       "      <th>0610007C21Rik;Apr3</th>\n",
       "      <th>0610007L01Rik</th>\n",
       "      <th>0610007P08Rik;Rad26l</th>\n",
       "      <th>0610007P14Rik</th>\n",
       "      <th>0610007P22Rik</th>\n",
       "      <th>0610008F07Rik</th>\n",
       "      <th>0610009B22Rik</th>\n",
       "      <th>0610009D07Rik</th>\n",
       "      <th>0610009O20Rik</th>\n",
       "      <th>0610010B08Rik;Gm14434;Gm14308</th>\n",
       "      <th>...</th>\n",
       "      <th>mTPK1;Tpk1</th>\n",
       "      <th>mimp3;Igf2bp3;AK045244</th>\n",
       "      <th>mszf84;Gm14288;Gm14435;Gm8898</th>\n",
       "      <th>mt-Nd4</th>\n",
       "      <th>mt3-mmp;Mmp16</th>\n",
       "      <th>rp9</th>\n",
       "      <th>scmh1;Scmh1</th>\n",
       "      <th>slc43a2;Slc43a2</th>\n",
       "      <th>tsec-1;Tex9</th>\n",
       "      <th>tspan-3;Tspan3</th>\n",
       "    </tr>\n",
       "  </thead>\n",
       "  <tbody>\n",
       "    <tr>\n",
       "      <th>W31105</th>\n",
       "      <td>0</td>\n",
       "      <td>0</td>\n",
       "      <td>0</td>\n",
       "      <td>0</td>\n",
       "      <td>0</td>\n",
       "      <td>0</td>\n",
       "      <td>0</td>\n",
       "      <td>0</td>\n",
       "      <td>0</td>\n",
       "      <td>0</td>\n",
       "      <td>...</td>\n",
       "      <td>0</td>\n",
       "      <td>0</td>\n",
       "      <td>0</td>\n",
       "      <td>0</td>\n",
       "      <td>0</td>\n",
       "      <td>2</td>\n",
       "      <td>0</td>\n",
       "      <td>0</td>\n",
       "      <td>0</td>\n",
       "      <td>0</td>\n",
       "    </tr>\n",
       "    <tr>\n",
       "      <th>W31106</th>\n",
       "      <td>0</td>\n",
       "      <td>0</td>\n",
       "      <td>0</td>\n",
       "      <td>1</td>\n",
       "      <td>0</td>\n",
       "      <td>0</td>\n",
       "      <td>0</td>\n",
       "      <td>0</td>\n",
       "      <td>0</td>\n",
       "      <td>0</td>\n",
       "      <td>...</td>\n",
       "      <td>0</td>\n",
       "      <td>0</td>\n",
       "      <td>0</td>\n",
       "      <td>0</td>\n",
       "      <td>0</td>\n",
       "      <td>1</td>\n",
       "      <td>1</td>\n",
       "      <td>0</td>\n",
       "      <td>0</td>\n",
       "      <td>0</td>\n",
       "    </tr>\n",
       "    <tr>\n",
       "      <th>W31107</th>\n",
       "      <td>0</td>\n",
       "      <td>1</td>\n",
       "      <td>0</td>\n",
       "      <td>2</td>\n",
       "      <td>0</td>\n",
       "      <td>0</td>\n",
       "      <td>0</td>\n",
       "      <td>0</td>\n",
       "      <td>0</td>\n",
       "      <td>0</td>\n",
       "      <td>...</td>\n",
       "      <td>0</td>\n",
       "      <td>0</td>\n",
       "      <td>0</td>\n",
       "      <td>0</td>\n",
       "      <td>0</td>\n",
       "      <td>3</td>\n",
       "      <td>1</td>\n",
       "      <td>0</td>\n",
       "      <td>0</td>\n",
       "      <td>2</td>\n",
       "    </tr>\n",
       "    <tr>\n",
       "      <th>W31108</th>\n",
       "      <td>0</td>\n",
       "      <td>1</td>\n",
       "      <td>0</td>\n",
       "      <td>1</td>\n",
       "      <td>0</td>\n",
       "      <td>0</td>\n",
       "      <td>0</td>\n",
       "      <td>0</td>\n",
       "      <td>0</td>\n",
       "      <td>0</td>\n",
       "      <td>...</td>\n",
       "      <td>0</td>\n",
       "      <td>0</td>\n",
       "      <td>0</td>\n",
       "      <td>0</td>\n",
       "      <td>0</td>\n",
       "      <td>3</td>\n",
       "      <td>1</td>\n",
       "      <td>0</td>\n",
       "      <td>0</td>\n",
       "      <td>0</td>\n",
       "    </tr>\n",
       "    <tr>\n",
       "      <th>W31109</th>\n",
       "      <td>0</td>\n",
       "      <td>0</td>\n",
       "      <td>1</td>\n",
       "      <td>0</td>\n",
       "      <td>0</td>\n",
       "      <td>0</td>\n",
       "      <td>0</td>\n",
       "      <td>1</td>\n",
       "      <td>3</td>\n",
       "      <td>0</td>\n",
       "      <td>...</td>\n",
       "      <td>0</td>\n",
       "      <td>0</td>\n",
       "      <td>0</td>\n",
       "      <td>0</td>\n",
       "      <td>0</td>\n",
       "      <td>5</td>\n",
       "      <td>0</td>\n",
       "      <td>0</td>\n",
       "      <td>0</td>\n",
       "      <td>0</td>\n",
       "    </tr>\n",
       "  </tbody>\n",
       "</table>\n",
       "<p>5 rows × 27297 columns</p>\n",
       "</div>"
      ],
      "text/plain": [
       "        0610007C21Rik;Apr3  0610007L01Rik  0610007P08Rik;Rad26l  \\\n",
       "W31105                   0              0                     0   \n",
       "W31106                   0              0                     0   \n",
       "W31107                   0              1                     0   \n",
       "W31108                   0              1                     0   \n",
       "W31109                   0              0                     1   \n",
       "\n",
       "        0610007P14Rik  0610007P22Rik  0610008F07Rik  0610009B22Rik  \\\n",
       "W31105              0              0              0              0   \n",
       "W31106              1              0              0              0   \n",
       "W31107              2              0              0              0   \n",
       "W31108              1              0              0              0   \n",
       "W31109              0              0              0              0   \n",
       "\n",
       "        0610009D07Rik  0610009O20Rik  0610010B08Rik;Gm14434;Gm14308  \\\n",
       "W31105              0              0                              0   \n",
       "W31106              0              0                              0   \n",
       "W31107              0              0                              0   \n",
       "W31108              0              0                              0   \n",
       "W31109              1              3                              0   \n",
       "\n",
       "             ...        mTPK1;Tpk1  mimp3;Igf2bp3;AK045244  \\\n",
       "W31105       ...                 0                       0   \n",
       "W31106       ...                 0                       0   \n",
       "W31107       ...                 0                       0   \n",
       "W31108       ...                 0                       0   \n",
       "W31109       ...                 0                       0   \n",
       "\n",
       "        mszf84;Gm14288;Gm14435;Gm8898  mt-Nd4  mt3-mmp;Mmp16  rp9  \\\n",
       "W31105                              0       0              0    2   \n",
       "W31106                              0       0              0    1   \n",
       "W31107                              0       0              0    3   \n",
       "W31108                              0       0              0    3   \n",
       "W31109                              0       0              0    5   \n",
       "\n",
       "        scmh1;Scmh1  slc43a2;Slc43a2  tsec-1;Tex9  tspan-3;Tspan3  \n",
       "W31105            0                0            0               0  \n",
       "W31106            1                0            0               0  \n",
       "W31107            1                0            0               2  \n",
       "W31108            1                0            0               0  \n",
       "W31109            0                0            0               0  \n",
       "\n",
       "[5 rows x 27297 columns]"
      ]
     },
     "execution_count": 96,
     "metadata": {},
     "output_type": "execute_result"
    }
   ],
   "source": [
    "emt_data = scprep.io.load_csv('assignment2_scRNA.csv.gz')\n",
    "emt_data.head()"
   ]
  },
  {
   "cell_type": "code",
   "execution_count": 97,
   "metadata": {},
   "outputs": [
    {
     "name": "stdout",
     "output_type": "stream",
     "text": [
      "(2730, 27297)\n"
     ]
    }
   ],
   "source": [
    "print(emt_data.shape)\n",
    "Ncell, Ngene = emt_data.shape"
   ]
  },
  {
   "cell_type": "markdown",
   "metadata": {},
   "source": [
    "#### Problem 1a [3 pts]: Data QC\n",
    "Next, we'll proceed by QCing our data. Remove all genes from the data that have very few counts over all samples and genes with a low library size. Decide on what thresholds to use.  "
   ]
  },
  {
   "cell_type": "code",
   "execution_count": 109,
   "metadata": {},
   "outputs": [
    {
     "data": {
      "image/png": "[encoded data removed]",
      "text/plain": [
       "<Figure size 432x288 with 1 Axes>"
      ]
     },
     "metadata": {
      "needs_background": "light"
     },
     "output_type": "display_data"
    }
   ],
   "source": [
    "emt_data_f = scprep.filter.filter_empty_cells(emt_data)\n",
    "emt_data_f = scprep.filter.filter_empty_genes(emt_data_f)\n",
    "cutoff = 1000\n",
    "scprep.plot.plot_library_size(emt_data_f, cutoff=cutoff)\n",
    "emt_data_f = scprep.filter.filter_library_size(emt_data_f, cutoff=cutoff)\n",
    "emt_data_f = scprep.filter.filter_rare_genes(emt_data_f, cutoff=1, min_cells=10)"
   ]
  },
  {
   "cell_type": "markdown",
   "metadata": {},
   "source": [
    "#### Problem 1b [2 pts]: Normalization\n",
    "Perform data normalization by taking the log transformation of your data (remember to add a pseudocount to avoid errors with zeros)"
   ]
  },
  {
   "cell_type": "code",
   "execution_count": 110,
   "metadata": {
    "scrolled": true
   },
   "outputs": [],
   "source": [
    "#YOUR CODE HERE\n",
    "%timeit\n",
    "#emt_data_clean_norm = emt_data_clean.applymap(lambda x: np.log2(x+1))\n",
    "emt_data_norm = scprep.transform.log(emt_data_f, pseudocount=1, base=10)"
   ]
  },
  {
   "cell_type": "code",
   "execution_count": 111,
   "metadata": {},
   "outputs": [
    {
     "data": {
      "text/html": [
       "<div>\n",
       "<style scoped>\n",
       "    .dataframe tbody tr th:only-of-type {\n",
       "        vertical-align: middle;\n",
       "    }\n",
       "\n",
       "    .dataframe tbody tr th {\n",
       "        vertical-align: top;\n",
       "    }\n",
       "\n",
       "    .dataframe thead th {\n",
       "        text-align: right;\n",
       "    }\n",
       "</style>\n",
       "<table border=\"1\" class=\"dataframe\">\n",
       "  <thead>\n",
       "    <tr style=\"text-align: right;\">\n",
       "      <th></th>\n",
       "      <th>0610007C21Rik;Apr3</th>\n",
       "      <th>0610007L01Rik</th>\n",
       "      <th>0610007P08Rik;Rad26l</th>\n",
       "      <th>0610007P14Rik</th>\n",
       "      <th>0610009D07Rik</th>\n",
       "      <th>0610009O20Rik</th>\n",
       "      <th>0610010K14Rik;Rnasek</th>\n",
       "      <th>0610011F06Rik</th>\n",
       "      <th>0610011L14Rik</th>\n",
       "      <th>0610012G03Rik</th>\n",
       "      <th>...</th>\n",
       "      <th>mKIAA1027;Tln1</th>\n",
       "      <th>mKIAA1076;AK140234</th>\n",
       "      <th>mKIAA1267;1700081L11Rik</th>\n",
       "      <th>mKIAA1575;Bcor</th>\n",
       "      <th>mKIAA1632;5430411K18Rik</th>\n",
       "      <th>mKIAA1994;Tsc22d1</th>\n",
       "      <th>rp9</th>\n",
       "      <th>scmh1;Scmh1</th>\n",
       "      <th>slc43a2;Slc43a2</th>\n",
       "      <th>tspan-3;Tspan3</th>\n",
       "    </tr>\n",
       "  </thead>\n",
       "  <tbody>\n",
       "    <tr>\n",
       "      <th>W31106</th>\n",
       "      <td>0.0</td>\n",
       "      <td>0.00000</td>\n",
       "      <td>0.00000</td>\n",
       "      <td>0.301030</td>\n",
       "      <td>0.00000</td>\n",
       "      <td>0.00000</td>\n",
       "      <td>0.301030</td>\n",
       "      <td>0.0</td>\n",
       "      <td>0.00000</td>\n",
       "      <td>0.602060</td>\n",
       "      <td>...</td>\n",
       "      <td>0.477121</td>\n",
       "      <td>0.00000</td>\n",
       "      <td>0.00000</td>\n",
       "      <td>0.000000</td>\n",
       "      <td>0.0</td>\n",
       "      <td>0.000000</td>\n",
       "      <td>0.301030</td>\n",
       "      <td>0.30103</td>\n",
       "      <td>0.0</td>\n",
       "      <td>0.000000</td>\n",
       "    </tr>\n",
       "    <tr>\n",
       "      <th>W31107</th>\n",
       "      <td>0.0</td>\n",
       "      <td>0.30103</td>\n",
       "      <td>0.00000</td>\n",
       "      <td>0.477121</td>\n",
       "      <td>0.00000</td>\n",
       "      <td>0.00000</td>\n",
       "      <td>0.602060</td>\n",
       "      <td>0.0</td>\n",
       "      <td>0.00000</td>\n",
       "      <td>0.602060</td>\n",
       "      <td>...</td>\n",
       "      <td>0.698970</td>\n",
       "      <td>0.60206</td>\n",
       "      <td>0.30103</td>\n",
       "      <td>0.477121</td>\n",
       "      <td>0.0</td>\n",
       "      <td>0.477121</td>\n",
       "      <td>0.602060</td>\n",
       "      <td>0.30103</td>\n",
       "      <td>0.0</td>\n",
       "      <td>0.477121</td>\n",
       "    </tr>\n",
       "    <tr>\n",
       "      <th>W31108</th>\n",
       "      <td>0.0</td>\n",
       "      <td>0.30103</td>\n",
       "      <td>0.00000</td>\n",
       "      <td>0.301030</td>\n",
       "      <td>0.00000</td>\n",
       "      <td>0.00000</td>\n",
       "      <td>0.602060</td>\n",
       "      <td>0.0</td>\n",
       "      <td>0.00000</td>\n",
       "      <td>0.477121</td>\n",
       "      <td>...</td>\n",
       "      <td>0.845098</td>\n",
       "      <td>0.00000</td>\n",
       "      <td>0.30103</td>\n",
       "      <td>0.301030</td>\n",
       "      <td>0.0</td>\n",
       "      <td>0.000000</td>\n",
       "      <td>0.602060</td>\n",
       "      <td>0.30103</td>\n",
       "      <td>0.0</td>\n",
       "      <td>0.000000</td>\n",
       "    </tr>\n",
       "    <tr>\n",
       "      <th>W31109</th>\n",
       "      <td>0.0</td>\n",
       "      <td>0.00000</td>\n",
       "      <td>0.30103</td>\n",
       "      <td>0.000000</td>\n",
       "      <td>0.30103</td>\n",
       "      <td>0.60206</td>\n",
       "      <td>0.954243</td>\n",
       "      <td>0.0</td>\n",
       "      <td>0.30103</td>\n",
       "      <td>0.000000</td>\n",
       "      <td>...</td>\n",
       "      <td>0.845098</td>\n",
       "      <td>0.00000</td>\n",
       "      <td>0.00000</td>\n",
       "      <td>0.477121</td>\n",
       "      <td>0.0</td>\n",
       "      <td>0.778151</td>\n",
       "      <td>0.778151</td>\n",
       "      <td>0.00000</td>\n",
       "      <td>0.0</td>\n",
       "      <td>0.000000</td>\n",
       "    </tr>\n",
       "    <tr>\n",
       "      <th>W31110</th>\n",
       "      <td>0.0</td>\n",
       "      <td>0.30103</td>\n",
       "      <td>0.00000</td>\n",
       "      <td>0.000000</td>\n",
       "      <td>0.00000</td>\n",
       "      <td>0.30103</td>\n",
       "      <td>0.301030</td>\n",
       "      <td>0.0</td>\n",
       "      <td>0.00000</td>\n",
       "      <td>0.000000</td>\n",
       "      <td>...</td>\n",
       "      <td>0.778151</td>\n",
       "      <td>0.30103</td>\n",
       "      <td>0.00000</td>\n",
       "      <td>0.301030</td>\n",
       "      <td>0.0</td>\n",
       "      <td>0.000000</td>\n",
       "      <td>0.602060</td>\n",
       "      <td>0.00000</td>\n",
       "      <td>0.0</td>\n",
       "      <td>0.301030</td>\n",
       "    </tr>\n",
       "  </tbody>\n",
       "</table>\n",
       "<p>5 rows × 7013 columns</p>\n",
       "</div>"
      ],
      "text/plain": [
       "        0610007C21Rik;Apr3  0610007L01Rik  0610007P08Rik;Rad26l  \\\n",
       "W31106                 0.0        0.00000               0.00000   \n",
       "W31107                 0.0        0.30103               0.00000   \n",
       "W31108                 0.0        0.30103               0.00000   \n",
       "W31109                 0.0        0.00000               0.30103   \n",
       "W31110                 0.0        0.30103               0.00000   \n",
       "\n",
       "        0610007P14Rik  0610009D07Rik  0610009O20Rik  0610010K14Rik;Rnasek  \\\n",
       "W31106       0.301030        0.00000        0.00000              0.301030   \n",
       "W31107       0.477121        0.00000        0.00000              0.602060   \n",
       "W31108       0.301030        0.00000        0.00000              0.602060   \n",
       "W31109       0.000000        0.30103        0.60206              0.954243   \n",
       "W31110       0.000000        0.00000        0.30103              0.301030   \n",
       "\n",
       "        0610011F06Rik  0610011L14Rik  0610012G03Rik       ...        \\\n",
       "W31106            0.0        0.00000       0.602060       ...         \n",
       "W31107            0.0        0.00000       0.602060       ...         \n",
       "W31108            0.0        0.00000       0.477121       ...         \n",
       "W31109            0.0        0.30103       0.000000       ...         \n",
       "W31110            0.0        0.00000       0.000000       ...         \n",
       "\n",
       "        mKIAA1027;Tln1  mKIAA1076;AK140234  mKIAA1267;1700081L11Rik  \\\n",
       "W31106        0.477121             0.00000                  0.00000   \n",
       "W31107        0.698970             0.60206                  0.30103   \n",
       "W31108        0.845098             0.00000                  0.30103   \n",
       "W31109        0.845098             0.00000                  0.00000   \n",
       "W31110        0.778151             0.30103                  0.00000   \n",
       "\n",
       "        mKIAA1575;Bcor  mKIAA1632;5430411K18Rik  mKIAA1994;Tsc22d1       rp9  \\\n",
       "W31106        0.000000                      0.0           0.000000  0.301030   \n",
       "W31107        0.477121                      0.0           0.477121  0.602060   \n",
       "W31108        0.301030                      0.0           0.000000  0.602060   \n",
       "W31109        0.477121                      0.0           0.778151  0.778151   \n",
       "W31110        0.301030                      0.0           0.000000  0.602060   \n",
       "\n",
       "        scmh1;Scmh1  slc43a2;Slc43a2  tspan-3;Tspan3  \n",
       "W31106      0.30103              0.0        0.000000  \n",
       "W31107      0.30103              0.0        0.477121  \n",
       "W31108      0.30103              0.0        0.000000  \n",
       "W31109      0.00000              0.0        0.000000  \n",
       "W31110      0.00000              0.0        0.301030  \n",
       "\n",
       "[5 rows x 7013 columns]"
      ]
     },
     "execution_count": 111,
     "metadata": {},
     "output_type": "execute_result"
    }
   ],
   "source": [
    "emt_data_norm.head()"
   ]
  },
  {
   "cell_type": "markdown",
   "metadata": {},
   "source": [
    "#### Problem 1c [2 pts]: MAGIC \n",
    "Run MAGIC on the data. Visualize the cell trajectories using PCA. Are you satisfied with your choice of cutoffs? Why? If you are satisfied, rerun the QC and normalization to demonstrate thresholds that are not satisfactory. If not, retry these steps until you have a successful rerun that you are happy with."
   ]
  },
  {
   "cell_type": "code",
   "execution_count": 112,
   "metadata": {},
   "outputs": [
    {
     "name": "stdout",
     "output_type": "stream",
     "text": [
      "Calculating MAGIC...\n",
      "  Running MAGIC on 2416 cells and 7013 genes.\n",
      "  Calculating graph and diffusion operator...\n",
      "    Calculating PCA...\n",
      "    Calculated PCA in 1.72 seconds.\n",
      "    Calculating KNN search...\n",
      "    Calculated KNN search in 0.77 seconds.\n",
      "    Calculating affinities...\n",
      "    Calculated affinities in 0.10 seconds.\n",
      "  Calculated graph and diffusion operator in 2.72 seconds.\n",
      "  Calculating imputation...\n",
      "    Automatically selected t = 7\n",
      "  Calculated imputation in 0.19 seconds.\n",
      "Calculated MAGIC in 3.29 seconds.\n"
     ]
    },
    {
     "data": {
      "image/png": "[encoded data removed]",
      "text/plain": [
       "<Figure size 432x288 with 1 Axes>"
      ]
     },
     "metadata": {
      "needs_background": "light"
     },
     "output_type": "display_data"
    }
   ],
   "source": [
    "#YOUR CODE HERE\n",
    "magic_operator = magic.MAGIC()\n",
    "X_magic = magic_operator.fit_transform(emt_data_norm, genes=\"pca_only\")\n",
    "plt.scatter(X_magic[\"PC1\"], X_magic[\"PC2\"], c=X_magic[\"PC3\"], s=1, cmap='inferno')\n",
    "plt.show()"
   ]
  },
  {
   "cell_type": "code",
   "execution_count": 113,
   "metadata": {},
   "outputs": [
    {
     "name": "stdout",
     "output_type": "stream",
     "text": [
      "Calculating MAGIC...\n",
      "  Running MAGIC on 2730 cells and 27297 genes.\n",
      "  Calculating graph and diffusion operator...\n"
     ]
    },
    {
     "name": "stderr",
     "output_type": "stream",
     "text": [
      "/home/explorerwjy/.local/lib/python3.7/site-packages/magic/magic.py:376: UserWarning: Input matrix contains unexpressed genes. Please remove them prior to running MAGIC.\n",
      "  warnings.warn(\"Input matrix contains unexpressed genes. \"\n"
     ]
    },
    {
     "name": "stdout",
     "output_type": "stream",
     "text": [
      "    Calculating PCA...\n",
      "    Calculated PCA in 9.20 seconds.\n",
      "    Calculating KNN search...\n",
      "    Calculated KNN search in 0.93 seconds.\n",
      "    Calculating affinities...\n",
      "    Calculated affinities in 0.14 seconds.\n",
      "  Calculated graph and diffusion operator in 10.80 seconds.\n",
      "  Calculating imputation...\n",
      "    Automatically selected t = 7\n",
      "  Calculated imputation in 0.27 seconds.\n",
      "Calculated MAGIC in 13.05 seconds.\n"
     ]
    },
    {
     "data": {
      "image/png": "[encoded data removed]",
      "text/plain": [
       "<Figure size 432x288 with 1 Axes>"
      ]
     },
     "metadata": {
      "needs_background": "light"
     },
     "output_type": "display_data"
    }
   ],
   "source": [
    "#emt_data_f = scprep.filter.filter_empty_cells(emt_data)\n",
    "#emt_data_f = scprep.filter.filter_empty_genes(emt_data_f)\n",
    "#emt_data_f = scprep.filter.filter_rare_genes(emt_data_f, cutoff=1, min_cells=50)\n",
    "cutoff = 1\n",
    "#scprep.plot.plot_library_size(emt_data_f, cutoff=cutoff)\n",
    "#emt_data_f = scprep.filter.filter_library_size(emt_data_f, cutoff=cutoff)\n",
    "emt_data_f = emt_data\n",
    "emt_data_norm = scprep.transform.log(emt_data_f, pseudocount=1, base=10)\n",
    "magic_operator = magic.MAGIC()\n",
    "X_magic = magic_operator.fit_transform(emt_data_norm, genes=\"pca_only\")\n",
    "plt.scatter(X_magic[\"PC1\"], X_magic[\"PC2\"], c=X_magic[\"PC3\"], s=1, cmap='inferno')\n",
    "plt.show()"
   ]
  },
  {
   "cell_type": "markdown",
   "metadata": {},
   "source": [
    "#### Problem 1d [15 pts]: Evaluating Test-Retest\n",
    "Now, we will determine how MAGIC performs after we apply perturbations to the data. We will again look at the raw data. For each gene, resample (with replacement) all of the counts based on the empirical distribution of counts within the gene. Then, rerun 1a-c on the resampled data and compare using the visualizations. Assess the robustness of the algorithm by plotting the gene-gene relationship of KLF1 to MPO before and after perturbing the data. Repeat your perturbation process 5-10 more times. How does jiggering the data affect the gene-gene relationship?"
   ]
  },
  {
   "cell_type": "code",
   "execution_count": 114,
   "metadata": {},
   "outputs": [],
   "source": [
    "#YOUR CODE HERE\n",
    "emt_pert = pd.DataFrame()\n",
    "for gene in emt_data.columns.values:\n",
    "    vals = [v for v,p in emt_data[gene].value_counts().items()]\n",
    "    fs = [p for v,p in emt_data[gene].value_counts().items()]\n",
    "    total = sum(fs)\n",
    "    ps = [float(p)/total for p in fs]\n",
    "    emt_pert[gene] = np.random.choice(vals, emt_data.shape[0], p=ps)"
   ]
  },
  {
   "cell_type": "code",
   "execution_count": 115,
   "metadata": {},
   "outputs": [
    {
     "name": "stdout",
     "output_type": "stream",
     "text": [
      "27297 (2730, 27297)\n"
     ]
    }
   ],
   "source": [
    "emt_pert.head()\n",
    "print(emt_data.shape[1], emt_pert.shape)"
   ]
  },
  {
   "cell_type": "code",
   "execution_count": 125,
   "metadata": {
    "scrolled": false
   },
   "outputs": [
    {
     "data": {
      "text/html": [
       "<div>\n",
       "<style scoped>\n",
       "    .dataframe tbody tr th:only-of-type {\n",
       "        vertical-align: middle;\n",
       "    }\n",
       "\n",
       "    .dataframe tbody tr th {\n",
       "        vertical-align: top;\n",
       "    }\n",
       "\n",
       "    .dataframe thead th {\n",
       "        text-align: right;\n",
       "    }\n",
       "</style>\n",
       "<table border=\"1\" class=\"dataframe\">\n",
       "  <thead>\n",
       "    <tr style=\"text-align: right;\">\n",
       "      <th></th>\n",
       "      <th>0610007C21Rik;Apr3</th>\n",
       "      <th>0610007L01Rik</th>\n",
       "      <th>0610007P08Rik;Rad26l</th>\n",
       "      <th>0610007P14Rik</th>\n",
       "      <th>0610009D07Rik</th>\n",
       "      <th>0610009O20Rik</th>\n",
       "      <th>0610010K14Rik;Rnasek</th>\n",
       "      <th>0610011F06Rik</th>\n",
       "      <th>0610011L14Rik</th>\n",
       "      <th>0610012G03Rik</th>\n",
       "      <th>...</th>\n",
       "      <th>mKIAA1027;Tln1</th>\n",
       "      <th>mKIAA1076;AK140234</th>\n",
       "      <th>mKIAA1267;1700081L11Rik</th>\n",
       "      <th>mKIAA1575;Bcor</th>\n",
       "      <th>mKIAA1632;5430411K18Rik</th>\n",
       "      <th>mKIAA1994;Tsc22d1</th>\n",
       "      <th>rp9</th>\n",
       "      <th>scmh1;Scmh1</th>\n",
       "      <th>slc43a2;Slc43a2</th>\n",
       "      <th>tspan-3;Tspan3</th>\n",
       "    </tr>\n",
       "  </thead>\n",
       "  <tbody>\n",
       "    <tr>\n",
       "      <th>0</th>\n",
       "      <td>0.0</td>\n",
       "      <td>0.30103</td>\n",
       "      <td>0.0</td>\n",
       "      <td>0.477121</td>\n",
       "      <td>0.0</td>\n",
       "      <td>0.000000</td>\n",
       "      <td>0.602060</td>\n",
       "      <td>0.00000</td>\n",
       "      <td>0.0</td>\n",
       "      <td>0.60206</td>\n",
       "      <td>...</td>\n",
       "      <td>0.000000</td>\n",
       "      <td>0.00000</td>\n",
       "      <td>0.30103</td>\n",
       "      <td>0.00000</td>\n",
       "      <td>0.00000</td>\n",
       "      <td>0.30103</td>\n",
       "      <td>0.477121</td>\n",
       "      <td>0.301030</td>\n",
       "      <td>0.30103</td>\n",
       "      <td>0.30103</td>\n",
       "    </tr>\n",
       "    <tr>\n",
       "      <th>1</th>\n",
       "      <td>0.0</td>\n",
       "      <td>0.00000</td>\n",
       "      <td>0.0</td>\n",
       "      <td>0.000000</td>\n",
       "      <td>0.0</td>\n",
       "      <td>0.000000</td>\n",
       "      <td>0.301030</td>\n",
       "      <td>0.30103</td>\n",
       "      <td>0.0</td>\n",
       "      <td>0.00000</td>\n",
       "      <td>...</td>\n",
       "      <td>0.477121</td>\n",
       "      <td>0.00000</td>\n",
       "      <td>0.00000</td>\n",
       "      <td>0.00000</td>\n",
       "      <td>0.00000</td>\n",
       "      <td>0.00000</td>\n",
       "      <td>0.000000</td>\n",
       "      <td>0.000000</td>\n",
       "      <td>0.00000</td>\n",
       "      <td>0.00000</td>\n",
       "    </tr>\n",
       "    <tr>\n",
       "      <th>2</th>\n",
       "      <td>0.0</td>\n",
       "      <td>0.00000</td>\n",
       "      <td>0.0</td>\n",
       "      <td>0.301030</td>\n",
       "      <td>0.0</td>\n",
       "      <td>0.000000</td>\n",
       "      <td>0.000000</td>\n",
       "      <td>0.00000</td>\n",
       "      <td>0.0</td>\n",
       "      <td>0.30103</td>\n",
       "      <td>...</td>\n",
       "      <td>0.845098</td>\n",
       "      <td>0.00000</td>\n",
       "      <td>0.00000</td>\n",
       "      <td>0.00000</td>\n",
       "      <td>0.30103</td>\n",
       "      <td>0.00000</td>\n",
       "      <td>0.698970</td>\n",
       "      <td>0.000000</td>\n",
       "      <td>0.00000</td>\n",
       "      <td>0.00000</td>\n",
       "    </tr>\n",
       "    <tr>\n",
       "      <th>3</th>\n",
       "      <td>0.0</td>\n",
       "      <td>0.00000</td>\n",
       "      <td>0.0</td>\n",
       "      <td>0.000000</td>\n",
       "      <td>0.0</td>\n",
       "      <td>0.477121</td>\n",
       "      <td>0.477121</td>\n",
       "      <td>0.00000</td>\n",
       "      <td>0.0</td>\n",
       "      <td>0.00000</td>\n",
       "      <td>...</td>\n",
       "      <td>0.301030</td>\n",
       "      <td>0.30103</td>\n",
       "      <td>0.00000</td>\n",
       "      <td>0.00000</td>\n",
       "      <td>0.00000</td>\n",
       "      <td>0.00000</td>\n",
       "      <td>0.477121</td>\n",
       "      <td>0.477121</td>\n",
       "      <td>0.00000</td>\n",
       "      <td>0.00000</td>\n",
       "    </tr>\n",
       "    <tr>\n",
       "      <th>4</th>\n",
       "      <td>0.0</td>\n",
       "      <td>0.00000</td>\n",
       "      <td>0.0</td>\n",
       "      <td>0.000000</td>\n",
       "      <td>0.0</td>\n",
       "      <td>0.000000</td>\n",
       "      <td>0.000000</td>\n",
       "      <td>0.30103</td>\n",
       "      <td>0.0</td>\n",
       "      <td>0.00000</td>\n",
       "      <td>...</td>\n",
       "      <td>0.000000</td>\n",
       "      <td>0.30103</td>\n",
       "      <td>0.00000</td>\n",
       "      <td>0.30103</td>\n",
       "      <td>0.00000</td>\n",
       "      <td>0.00000</td>\n",
       "      <td>0.000000</td>\n",
       "      <td>0.000000</td>\n",
       "      <td>0.00000</td>\n",
       "      <td>0.00000</td>\n",
       "    </tr>\n",
       "  </tbody>\n",
       "</table>\n",
       "<p>5 rows × 7045 columns</p>\n",
       "</div>"
      ],
      "text/plain": [
       "   0610007C21Rik;Apr3  0610007L01Rik  0610007P08Rik;Rad26l  0610007P14Rik  \\\n",
       "0                 0.0        0.30103                   0.0       0.477121   \n",
       "1                 0.0        0.00000                   0.0       0.000000   \n",
       "2                 0.0        0.00000                   0.0       0.301030   \n",
       "3                 0.0        0.00000                   0.0       0.000000   \n",
       "4                 0.0        0.00000                   0.0       0.000000   \n",
       "\n",
       "   0610009D07Rik  0610009O20Rik  0610010K14Rik;Rnasek  0610011F06Rik  \\\n",
       "0            0.0       0.000000              0.602060        0.00000   \n",
       "1            0.0       0.000000              0.301030        0.30103   \n",
       "2            0.0       0.000000              0.000000        0.00000   \n",
       "3            0.0       0.477121              0.477121        0.00000   \n",
       "4            0.0       0.000000              0.000000        0.30103   \n",
       "\n",
       "   0610011L14Rik  0610012G03Rik       ...        mKIAA1027;Tln1  \\\n",
       "0            0.0        0.60206       ...              0.000000   \n",
       "1            0.0        0.00000       ...              0.477121   \n",
       "2            0.0        0.30103       ...              0.845098   \n",
       "3            0.0        0.00000       ...              0.301030   \n",
       "4            0.0        0.00000       ...              0.000000   \n",
       "\n",
       "   mKIAA1076;AK140234  mKIAA1267;1700081L11Rik  mKIAA1575;Bcor  \\\n",
       "0             0.00000                  0.30103         0.00000   \n",
       "1             0.00000                  0.00000         0.00000   \n",
       "2             0.00000                  0.00000         0.00000   \n",
       "3             0.30103                  0.00000         0.00000   \n",
       "4             0.30103                  0.00000         0.30103   \n",
       "\n",
       "   mKIAA1632;5430411K18Rik  mKIAA1994;Tsc22d1       rp9  scmh1;Scmh1  \\\n",
       "0                  0.00000            0.30103  0.477121     0.301030   \n",
       "1                  0.00000            0.00000  0.000000     0.000000   \n",
       "2                  0.30103            0.00000  0.698970     0.000000   \n",
       "3                  0.00000            0.00000  0.477121     0.477121   \n",
       "4                  0.00000            0.00000  0.000000     0.000000   \n",
       "\n",
       "   slc43a2;Slc43a2  tspan-3;Tspan3  \n",
       "0          0.30103         0.30103  \n",
       "1          0.00000         0.00000  \n",
       "2          0.00000         0.00000  \n",
       "3          0.00000         0.00000  \n",
       "4          0.00000         0.00000  \n",
       "\n",
       "[5 rows x 7045 columns]"
      ]
     },
     "metadata": {},
     "output_type": "display_data"
    },
    {
     "name": "stdout",
     "output_type": "stream",
     "text": [
      "Calculating MAGIC...\n",
      "  Running MAGIC on 2730 cells and 7045 genes.\n",
      "  Calculating graph and diffusion operator...\n",
      "    Calculating PCA...\n",
      "    Calculated PCA in 2.11 seconds.\n",
      "    Calculating KNN search...\n",
      "    Calculated KNN search in 1.18 seconds.\n",
      "    Calculating affinities...\n",
      "    Calculated affinities in 3.21 seconds.\n",
      "  Calculated graph and diffusion operator in 6.82 seconds.\n",
      "  Calculating imputation...\n",
      "    Automatically selected t = 17\n",
      "  Calculated imputation in 3.08 seconds.\n",
      "Calculated MAGIC in 10.35 seconds.\n"
     ]
    },
    {
     "data": {
      "image/png": "[encoded data removed]",
      "text/plain": [
       "<Figure size 432x288 with 1 Axes>"
      ]
     },
     "metadata": {
      "needs_background": "light"
     },
     "output_type": "display_data"
    }
   ],
   "source": [
    "emt_pert_f = scprep.filter.filter_empty_cells(emt_pert)\n",
    "emt_pert_f = scprep.filter.filter_empty_genes(emt_pert_f)\n",
    "emt_pert_f = scprep.filter.filter_rare_genes(emt_pert_f, cutoff=1, min_cells=10)\n",
    "cutoff = 1000\n",
    "#scprep.plot.plot_library_size(emt_pert_f, cutoff=cutoff)\n",
    "emt_pert_f = scprep.filter.filter_library_size(emt_pert_f, cutoff=cutoff)\n",
    "#emt_pert_f = emt_pert\n",
    "emt_pert_norm = scprep.transform.log(emt_pert_f, pseudocount=1, base=10)\n",
    "display(emt_pert_norm.head())\n",
    "magic_operator = magic.MAGIC()\n",
    "X_magic = magic_operator.fit_transform(emt_pert_norm, genes=\"pca_only\")"
   ]
  },
  {
   "cell_type": "code",
   "execution_count": 128,
   "metadata": {},
   "outputs": [
    {
     "name": "stdout",
     "output_type": "stream",
     "text": [
      "after resample the data, PCA reslult become a dot that all cells gathered. MAGIC can't work on fake data, means it has ability to detect cell type\n"
     ]
    }
   ],
   "source": [
    "print(\"after resample the data, PCA reslult become a dot that all cells gathered. MAGIC can't work on fake data, means it has ability to detect cell type\")"
   ]
  },
  {
   "cell_type": "markdown",
   "metadata": {},
   "source": [
    "# Part II: Exploring Additional scRNA-Seq Tools\n",
    "Go to https://www.scrna-tools.org/ and select an additional toolkit of your choice to explore. Download/install the toolkit here. "
   ]
  },
  {
   "cell_type": "code",
   "execution_count": 117,
   "metadata": {
    "scrolled": true
   },
   "outputs": [
    {
     "name": "stdout",
     "output_type": "stream",
     "text": [
      "Requirement already satisfied: scanpy in /home/explorerwjy/anaconda3/lib/python3.7/site-packages (1.4)\n",
      "Requirement already satisfied: pandas>=0.21 in /home/explorerwjy/anaconda3/lib/python3.7/site-packages (from scanpy) (0.23.4)\n",
      "Requirement already satisfied: natsort in /home/explorerwjy/anaconda3/lib/python3.7/site-packages (from scanpy) (6.0.0)\n",
      "Requirement already satisfied: patsy in /home/explorerwjy/anaconda3/lib/python3.7/site-packages (from scanpy) (0.5.1)\n",
      "Requirement already satisfied: numba>=0.40.0 in /home/explorerwjy/anaconda3/lib/python3.7/site-packages (from scanpy) (0.41.0)\n",
      "Requirement already satisfied: statsmodels in /home/explorerwjy/anaconda3/lib/python3.7/site-packages (from scanpy) (0.9.0)\n",
      "Requirement already satisfied: networkx in /home/explorerwjy/anaconda3/lib/python3.7/site-packages (from scanpy) (2.2)\n",
      "Requirement already satisfied: seaborn in /home/explorerwjy/anaconda3/lib/python3.7/site-packages (from scanpy) (0.9.0)\n",
      "Requirement already satisfied: h5py in /home/explorerwjy/anaconda3/lib/python3.7/site-packages (from scanpy) (2.8.0)\n",
      "Requirement already satisfied: tables in /home/explorerwjy/anaconda3/lib/python3.7/site-packages (from scanpy) (3.4.4)\n",
      "Requirement already satisfied: joblib in /home/explorerwjy/anaconda3/lib/python3.7/site-packages (from scanpy) (0.13.2)\n",
      "Requirement already satisfied: scipy in /home/explorerwjy/anaconda3/lib/python3.7/site-packages (from scanpy) (1.1.0)\n",
      "Requirement already satisfied: anndata>=0.6.15 in /home/explorerwjy/anaconda3/lib/python3.7/site-packages (from scanpy) (0.6.18)\n",
      "Requirement already satisfied: matplotlib>=2.2 in /home/explorerwjy/anaconda3/lib/python3.7/site-packages (from scanpy) (3.0.2)\n",
      "Requirement already satisfied: scikit-learn>=0.19.1 in /home/explorerwjy/anaconda3/lib/python3.7/site-packages (from scanpy) (0.20.1)\n",
      "Requirement already satisfied: python-dateutil>=2.5.0 in /home/explorerwjy/anaconda3/lib/python3.7/site-packages (from pandas>=0.21->scanpy) (2.7.5)\n",
      "Requirement already satisfied: pytz>=2011k in /home/explorerwjy/anaconda3/lib/python3.7/site-packages (from pandas>=0.21->scanpy) (2018.7)\n",
      "Requirement already satisfied: numpy>=1.9.0 in /home/explorerwjy/anaconda3/lib/python3.7/site-packages (from pandas>=0.21->scanpy) (1.15.4)\n",
      "Requirement already satisfied: six in /home/explorerwjy/anaconda3/lib/python3.7/site-packages (from patsy->scanpy) (1.12.0)\n",
      "Requirement already satisfied: llvmlite>=0.26.0dev0 in /home/explorerwjy/anaconda3/lib/python3.7/site-packages (from numba>=0.40.0->scanpy) (0.26.0)\n",
      "Requirement already satisfied: decorator>=4.3.0 in /home/explorerwjy/anaconda3/lib/python3.7/site-packages (from networkx->scanpy) (4.3.0)\n",
      "Requirement already satisfied: numexpr>=2.5.2 in /home/explorerwjy/anaconda3/lib/python3.7/site-packages (from tables->scanpy) (2.6.8)\n",
      "Requirement already satisfied: cycler>=0.10 in /home/explorerwjy/anaconda3/lib/python3.7/site-packages (from matplotlib>=2.2->scanpy) (0.10.0)\n",
      "Requirement already satisfied: kiwisolver>=1.0.1 in /home/explorerwjy/anaconda3/lib/python3.7/site-packages (from matplotlib>=2.2->scanpy) (1.0.1)\n",
      "Requirement already satisfied: pyparsing!=2.0.4,!=2.1.2,!=2.1.6,>=2.0.1 in /home/explorerwjy/anaconda3/lib/python3.7/site-packages (from matplotlib>=2.2->scanpy) (2.3.0)\n",
      "Requirement already satisfied: setuptools in /home/explorerwjy/anaconda3/lib/python3.7/site-packages (from kiwisolver>=1.0.1->matplotlib>=2.2->scanpy) (40.6.3)\n"
     ]
    }
   ],
   "source": [
    "!pip install scanpy\n",
    "import scanpy as sc"
   ]
  },
  {
   "cell_type": "markdown",
   "metadata": {},
   "source": [
    "#### Problem 2a [5 pts]: Perform QC and Normalization on the previous data with this new toolkit. Visualize your preprocessed data"
   ]
  },
  {
   "cell_type": "code",
   "execution_count": 118,
   "metadata": {},
   "outputs": [],
   "source": [
    "sc.settings.verbosity = 3  # verbosity: errors (0), warnings (1), info (2), hints (3)\n",
    "#sc.logging.print_versions()\n",
    "#adata = scprep.io.load_csv('assignment2_scRNA.csv.gz')"
   ]
  },
  {
   "cell_type": "code",
   "execution_count": null,
   "metadata": {},
   "outputs": [],
   "source": []
  },
  {
   "cell_type": "code",
   "execution_count": 119,
   "metadata": {},
   "outputs": [
    {
     "name": "stdout",
     "output_type": "stream",
     "text": [
      "... reading from cache file ./cache/assignment2_scRNA.h5ad\n",
      "running recipe zheng17\n",
      "filtered out 13087 genes that are detected in less than 1 counts\n",
      "    finished (0:00:02.20)\n",
      "AnnData object with n_obs × n_vars = 2730 × 999 \n",
      "    obs: 'n_counts_all', 'n_counts'\n",
      "    var: 'n_counts'\n",
      "computing neighbors\n",
      "    using 'X_pca' with n_pcs = 20\n",
      "    finished (0:00:00.30) --> added to `.uns['neighbors']`\n",
      "    'distances', distances for each pair of neighbors\n",
      "    'connectivities', weighted adjacency matrix\n",
      "drawing single-cell graph using layout \"fa\"\n",
      "    finished (0:00:12.28) --> added\n",
      "    'X_draw_graph_fa', graph_drawing coordinates (adata.obsm)\n"
     ]
    }
   ],
   "source": [
    "#YOUR CODE HERE\n",
    "\n",
    "adata = sc.read(\"assignment2_scRNA.csv.gz\", cache=True)\n",
    "adata = sc.pp.recipe_zheng17(adata, copy=True)\n",
    "print(adata)\n",
    "sc.tl.pca(adata, svd_solver='arpack')\n",
    "\n",
    "sc.pp.neighbors(adata, n_neighbors=4, n_pcs=20)\n",
    "sc.tl.draw_graph(adata)\n",
    "#sc.pl.draw_graph(adata, color='paul15_clusters', legend_loc='on data')"
   ]
  },
  {
   "cell_type": "code",
   "execution_count": 120,
   "metadata": {},
   "outputs": [
    {
     "data": {
      "image/png": "[encoded data removed]",
      "text/plain": [
       "<Figure size 432x288 with 2 Axes>"
      ]
     },
     "metadata": {
      "needs_background": "light"
     },
     "output_type": "display_data"
    }
   ],
   "source": [
    "sc.pl.draw_graph(adata, color=\"n_counts\", legend_loc='on data')"
   ]
  },
  {
   "cell_type": "markdown",
   "metadata": {},
   "source": [
    "#### Problem 2b [5 pts]: Using the toolkit, stratify your data. \n",
    "This can by done by clustering, dimensionality reduction, or other means. Visualize your results"
   ]
  },
  {
   "cell_type": "code",
   "execution_count": 121,
   "metadata": {},
   "outputs": [
    {
     "name": "stdout",
     "output_type": "stream",
     "text": [
      "computing Diffusion Maps using n_comps=15(=n_dcs)\n",
      "    eigenvalues of transition matrix\n",
      "    [1.         1.         0.9986347  0.9943755  0.9908166  0.9906327\n",
      "     0.98926824 0.98764056 0.984565   0.9825822  0.9822358  0.9812603\n",
      "     0.97916377 0.9776001  0.9754649 ]\n",
      "    finished (0:00:00.11) --> added\n",
      "    'X_diffmap', diffmap coordinates (adata.obsm)\n",
      "    'diffmap_evals', eigenvalues of transition matrix (adata.uns)\n",
      "computing neighbors\n",
      "    finished (0:00:00.45) --> added to `.uns['neighbors']`\n",
      "    'distances', distances for each pair of neighbors\n",
      "    'connectivities', weighted adjacency matrix\n",
      "drawing single-cell graph using layout \"fa\"\n",
      "    finished (0:00:11.43) --> added\n",
      "    'X_draw_graph_fa', graph_drawing coordinates (adata.obsm)\n"
     ]
    },
    {
     "data": {
      "image/png": "[encoded data removed]",
      "text/plain": [
       "<Figure size 432x288 with 2 Axes>"
      ]
     },
     "metadata": {
      "needs_background": "light"
     },
     "output_type": "display_data"
    }
   ],
   "source": [
    "#YOUR CODE HERE\n",
    "sc.tl.diffmap(adata)\n",
    "sc.pp.neighbors(adata, n_neighbors=10, use_rep='X_diffmap')\n",
    "\n",
    "sc.tl.draw_graph(adata)\n",
    "\n",
    "sc.pl.draw_graph(adata, color=\"n_counts\", legend_loc='on data')"
   ]
  },
  {
   "cell_type": "markdown",
   "metadata": {},
   "source": [
    "#### Problem 2c [5 pts]: Compare the stratification results between MAGIC and the toolkit in part 2. \n",
    "List an analysis result from your toolkit that is similar or one that is distinct from  MAGIC. "
   ]
  },
  {
   "cell_type": "markdown",
   "metadata": {},
   "source": []
  },
  {
   "cell_type": "code",
   "execution_count": null,
   "metadata": {},
   "outputs": [],
   "source": []
  },
  {
   "cell_type": "code",
   "execution_count": null,
   "metadata": {},
   "outputs": [],
   "source": []
  }
 ],
 "metadata": {
  "kernelspec": {
   "display_name": "Python 3",
   "language": "python",
   "name": "python3"
  },
  "language_info": {
   "codemirror_mode": {
    "name": "ipython",
    "version": 3
   },
   "file_extension": ".py",
   "mimetype": "text/x-python",
   "name": "python",
   "nbconvert_exporter": "python",
   "pygments_lexer": "ipython3",
   "version": "3.7.1"
  }
 },
 "nbformat": 4,
 "nbformat_minor": 2
}
